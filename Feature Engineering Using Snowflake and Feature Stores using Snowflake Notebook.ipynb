{
 "metadata": {
  "kernelspec": {
   "display_name": "Streamlit Notebook",
   "name": "streamlit"
  },
  "lastEditStatus": {
   "notebookId": "holi6sk3pp535usvbkqi",
   "authorId": "3148908177112",
   "authorName": "SOHANMESHRAM",
   "authorEmail": "sohanmeshram00@gmail.com",
   "sessionId": "5f89caa1-1152-418f-be27-7f085b908a89",
   "lastEditTime": 1747413862893
  }
 },
 "nbformat_minor": 5,
 "nbformat": 4,
 "cells": [
  {
   "cell_type": "code",
   "id": "68486eae-3b94-48eb-b394-adf5abe8a2e8",
   "metadata": {
    "language": "sql",
    "name": "cell4"
   },
   "outputs": [],
   "source": "USE WAREHOUSE CHURN_PRED;\nUSE DATABASE CHURN_DB;\nUSE SCHEMA PUBLIC;\n",
   "execution_count": null
  },
  {
   "cell_type": "code",
   "id": "a1813f59-2ef1-40cd-8f26-e091e4db8218",
   "metadata": {
    "language": "sql",
    "name": "cell5",
    "codeCollapsed": false
   },
   "outputs": [],
   "source": "SELECT * FROM CHURN_DATA;",
   "execution_count": null
  },
  {
   "cell_type": "code",
   "id": "3500b843-bc88-40e9-b3e8-dd56da3cc2e2",
   "metadata": {
    "language": "sql",
    "name": "cell29",
    "codeCollapsed": false
   },
   "outputs": [],
   "source": "SELECT CURRENT_ACCOUNT();",
   "execution_count": null
  },
  {
   "cell_type": "code",
   "id": "a25c7465-f5d5-4d3f-b855-21f46766e2f4",
   "metadata": {
    "language": "python",
    "name": "cell1",
    "codeCollapsed": false
   },
   "outputs": [],
   "source": "import pandas as pd\nimport numpy as np\nimport missingno as msno\nimport matplotlib.pyplot as plt\nimport seaborn as sns\nimport plotly.express as px\nimport plotly.graph_objects as go\nfrom plotly.subplots import make_subplots\nfrom sklearn.preprocessing import LabelEncoder, StandardScaler\n\nimport warnings\nwarnings.filterwarnings('ignore')",
   "execution_count": null
  },
  {
   "cell_type": "code",
   "id": "f39e0c1f-747e-4c61-ae5d-4a146e863c2f",
   "metadata": {
    "language": "python",
    "name": "cell2",
    "codeCollapsed": false
   },
   "outputs": [],
   "source": "df = cell5.to_df()\ndf.show(5)",
   "execution_count": null
  },
  {
   "cell_type": "code",
   "id": "a907f18f-b33b-401c-a9ba-ebdb331e68ff",
   "metadata": {
    "language": "python",
    "name": "cell3",
    "codeCollapsed": false
   },
   "outputs": [],
   "source": "df.describe()",
   "execution_count": null
  },
  {
   "cell_type": "code",
   "id": "76a8a2f0-36bd-4c6e-8adc-55ed0a677c76",
   "metadata": {
    "language": "python",
    "name": "cell6",
    "codeCollapsed": false
   },
   "outputs": [],
   "source": "df2 = df.to_pandas()",
   "execution_count": null
  },
  {
   "cell_type": "code",
   "id": "35e6e511-3dd3-410a-86f1-10b3ddde28cd",
   "metadata": {
    "language": "python",
    "name": "cell7",
    "codeCollapsed": false
   },
   "outputs": [],
   "source": "df2.info()",
   "execution_count": null
  },
  {
   "cell_type": "code",
   "id": "f527b764-9a2a-4ae9-b799-d1125802180f",
   "metadata": {
    "language": "python",
    "name": "cell8",
    "codeCollapsed": false
   },
   "outputs": [],
   "source": "df2.isnull().sum()",
   "execution_count": null
  },
  {
   "cell_type": "code",
   "id": "9407281b-6c50-487a-9b4b-90f4142b37ee",
   "metadata": {
    "language": "python",
    "name": "cell9",
    "codeCollapsed": false
   },
   "outputs": [],
   "source": "df2 = df2.drop(['CUSTOMERID'], axis = 1)",
   "execution_count": null
  },
  {
   "cell_type": "code",
   "id": "70e1b48a-1ba5-474e-8cad-94f722131acc",
   "metadata": {
    "language": "python",
    "name": "cell11",
    "codeCollapsed": false
   },
   "outputs": [],
   "source": "df2[np.isnan(df2['TOTALCHARGES'])]",
   "execution_count": null
  },
  {
   "cell_type": "code",
   "id": "c751e248-8c2f-4d4d-81eb-09d15b4dc4d8",
   "metadata": {
    "language": "python",
    "name": "cell14",
    "codeCollapsed": false
   },
   "outputs": [],
   "source": "df2.fillna(df2[\"TOTALCHARGES\"].mean())",
   "execution_count": null
  },
  {
   "cell_type": "code",
   "id": "694f8880-c401-4f17-af19-58726c8f6a8b",
   "metadata": {
    "language": "python",
    "name": "cell10",
    "codeCollapsed": false
   },
   "outputs": [],
   "source": "df2[df2['TENURE'] == 0].index",
   "execution_count": null
  },
  {
   "cell_type": "code",
   "id": "a64df4d9-5116-4503-bd3f-89024e69e95b",
   "metadata": {
    "language": "python",
    "name": "cell12",
    "codeCollapsed": false
   },
   "outputs": [],
   "source": "df2.drop(labels=df2[df2['TENURE'] == 0].index, axis=0, inplace=True)\ndf2[df2['TENURE'] == 0].index",
   "execution_count": null
  },
  {
   "cell_type": "code",
   "id": "0404bd77-86d2-4299-b707-ad8e5a5a0667",
   "metadata": {
    "language": "python",
    "name": "cell13",
    "codeCollapsed": false
   },
   "outputs": [],
   "source": "df2.isnull().sum()",
   "execution_count": null
  },
  {
   "cell_type": "code",
   "id": "b8f2740e-9ab2-4c6c-99c9-15ed19834a90",
   "metadata": {
    "language": "python",
    "name": "cell16",
    "codeCollapsed": false
   },
   "outputs": [],
   "source": "df2.info()",
   "execution_count": null
  },
  {
   "cell_type": "code",
   "id": "be345f79-2f3e-485e-a9e3-3b1a488be482",
   "metadata": {
    "language": "python",
    "name": "cell15",
    "codeCollapsed": false
   },
   "outputs": [],
   "source": "df2.head()",
   "execution_count": null
  },
  {
   "cell_type": "code",
   "id": "9b5c11b9-0363-4a27-b9d7-ed87a45008b5",
   "metadata": {
    "language": "python",
    "name": "cell18",
    "codeCollapsed": false
   },
   "outputs": [],
   "source": "df2.info()",
   "execution_count": null
  },
  {
   "cell_type": "code",
   "id": "d80b9529-fbb0-48ab-b5bc-8517de68afca",
   "metadata": {
    "language": "python",
    "name": "cell17",
    "codeCollapsed": false
   },
   "outputs": [],
   "source": "# Encode categorical features\ndf2['GENDER'] = LabelEncoder().fit_transform(df2['GENDER'])\ndf2['PARTNER'] = LabelEncoder().fit_transform(df2['PARTNER'])\ndf2['DEPENDENTS'] = LabelEncoder().fit_transform(df2['DEPENDENTS'])\ndf2['PHONESERVICE'] = LabelEncoder().fit_transform(df2['PHONESERVICE'])\ndf2['MULTIPLELINES'] = LabelEncoder().fit_transform(df2['MULTIPLELINES'])\ndf2['INTERNETSERVICE'] = LabelEncoder().fit_transform(df2['INTERNETSERVICE'])\ndf2['ONLINESECURITY'] = LabelEncoder().fit_transform(df2['ONLINESECURITY'])\ndf2['ONLINEBACKUP'] = LabelEncoder().fit_transform(df2['ONLINEBACKUP'])\ndf2['DEVICEPROTECTION'] = LabelEncoder().fit_transform(df2['DEVICEPROTECTION'])\ndf2['PAYMENTMETHOD'] = LabelEncoder().fit_transform(df2['PAYMENTMETHOD'])\ndf2['TECHSUPPORT'] = LabelEncoder().fit_transform(df2['TECHSUPPORT'])\ndf2['STREAMINGTV'] = LabelEncoder().fit_transform(df2['STREAMINGTV'])\ndf2['STREAMINGMOVIES'] = LabelEncoder().fit_transform(df2['STREAMINGMOVIES'])\ndf2['CONTRACT'] = LabelEncoder().fit_transform(df2['CONTRACT'])\ndf2['PAPERLESSBILLING'] = LabelEncoder().fit_transform(df2['PAPERLESSBILLING'])\ndf2['CHURN'] = LabelEncoder().fit_transform(df2['CHURN'])",
   "execution_count": null
  },
  {
   "cell_type": "code",
   "id": "86df6bf6-9a85-4688-989a-27e2d9d2f8ed",
   "metadata": {
    "language": "python",
    "name": "cell20",
    "codeCollapsed": false
   },
   "outputs": [],
   "source": "df2.head()",
   "execution_count": null
  },
  {
   "cell_type": "code",
   "id": "84730652-ac42-4c30-b882-81bf3ec8eb34",
   "metadata": {
    "language": "python",
    "name": "cell19",
    "codeCollapsed": false
   },
   "outputs": [],
   "source": "# Handle missing values\ndf2['TOTALCHARGES'] = pd.to_numeric(df2['TOTALCHARGES'], errors='coerce')\ndf2 = df2.dropna()\n\n# Normalize numerical columns\nscaler = StandardScaler()\ndf2[['TENURE', 'MONTHLYCHARGES', 'TOTALCHARGES']] = scaler.fit_transform(df2[['TENURE', 'MONTHLYCHARGES', 'TOTALCHARGES']])\n",
   "execution_count": null
  },
  {
   "cell_type": "code",
   "id": "2976652c-95c5-4f2f-aae3-876b216e8fb3",
   "metadata": {
    "language": "python",
    "name": "cell21",
    "codeCollapsed": false
   },
   "outputs": [],
   "source": "df2.head()",
   "execution_count": null
  },
  {
   "cell_type": "code",
   "id": "90420930-67c2-4d34-b077-6fffa46f1cf5",
   "metadata": {
    "language": "python",
    "name": "cell32",
    "codeCollapsed": false
   },
   "outputs": [],
   "source": "df2",
   "execution_count": null
  },
  {
   "cell_type": "code",
   "id": "269719b1-6a91-468d-bc11-bb3c44b26073",
   "metadata": {
    "language": "sql",
    "name": "cell27",
    "codeCollapsed": false
   },
   "outputs": [],
   "source": "CREATE OR REPLACE TABLE CHURN_FEATURES (\n    GENDER INT,\n    SENIOR_CITIZEN INT,\n    PARTNER INT,\n    DEPENDENTS INT,\n    TENURE FLOAT,\n    PHONESERVICE INT,\n    MULTIPLELINES INT,\n    INTERNETSERVICE INT,\n    ONLINESECURITY INT,\n    ONLINEBACKUP INT,\n    DEVICEPROTECTION INT,\n    TECHSUPPORT INT,\n    STREAMINGTV INT,\n    STREAMINGMOVIES INT,\n    CONTRACT INT,\n    PAPERLESSBILLING INT,\n    PAYMENTMETHOD INT,\n    MONTHLY_CHARGES FLOAT,\n    TOTAL_CHARGES FLOAT,\n    CHURN INT\n);",
   "execution_count": null
  },
  {
   "cell_type": "code",
   "id": "e9e5efe2-ce32-43f8-bf65-5b6f35a0f86b",
   "metadata": {
    "language": "python",
    "name": "cell22",
    "codeCollapsed": false
   },
   "outputs": [],
   "source": "from snowflake.snowpark import Session\nfrom snowflake.snowpark.context import get_active_session\n\nsession = get_active_session()\n\ndf_snowpark = session.create_dataframe(df2)",
   "execution_count": null
  },
  {
   "cell_type": "code",
   "id": "89d909e1-86eb-4493-bada-1c4ffd46821f",
   "metadata": {
    "language": "python",
    "name": "cell28",
    "codeCollapsed": false
   },
   "outputs": [],
   "source": "df_snowpark.write.mode(\"overwrite\").save_as_table(\"CHURN_FEATURES\")",
   "execution_count": null
  },
  {
   "cell_type": "code",
   "id": "241e8ccb-aa5f-44e4-94f3-833cbad825b2",
   "metadata": {
    "language": "sql",
    "name": "cell26",
    "codeCollapsed": false
   },
   "outputs": [],
   "source": "SELECT * FROM CHURN_FEATURES LIMIT 10;\n",
   "execution_count": null
  },
  {
   "cell_type": "code",
   "id": "06ec01fc-64db-4bd0-be3d-f0b2dd3fc025",
   "metadata": {
    "language": "python",
    "name": "cell25",
    "codeCollapsed": false
   },
   "outputs": [],
   "source": "features_df = session.table(\"CHURN_FEATURES\")\nfeatures_df",
   "execution_count": null
  },
  {
   "cell_type": "code",
   "id": "1f4f07da-25f2-41cc-937d-53e4067568a4",
   "metadata": {
    "language": "python",
    "name": "cell30",
    "codeCollapsed": false
   },
   "outputs": [],
   "source": "features_df.schema",
   "execution_count": null
  },
  {
   "cell_type": "code",
   "id": "10ff0e81-db9a-47e3-83bd-10938f83deaf",
   "metadata": {
    "language": "python",
    "name": "cell23",
    "codeCollapsed": false
   },
   "outputs": [],
   "source": "from snowflake.ml.modeling.xgboost import XGBClassifier\nfrom snowflake.ml.modeling.metrics import roc_auc_score",
   "execution_count": null
  },
  {
   "cell_type": "code",
   "id": "ad4e19ba-4832-44ba-83c0-7cde89ba6f27",
   "metadata": {
    "language": "python",
    "name": "cell24",
    "codeCollapsed": false
   },
   "outputs": [],
   "source": "\nTARGET_COL = \"CHURN\" \nFEATURE_COLS = [col for col in features_df.columns if col != TARGET_COL]\n",
   "execution_count": null
  },
  {
   "cell_type": "code",
   "id": "f278bf8a-2385-4610-95af-1fa29dca5648",
   "metadata": {
    "language": "python",
    "name": "cell31",
    "codeCollapsed": false
   },
   "outputs": [],
   "source": "train_df, test_df = features_df.random_split([0.8, 0.2], seed=42)",
   "execution_count": null
  },
  {
   "cell_type": "markdown",
   "id": "436e39f0-2851-46b4-a2e2-9894b5ec3563",
   "metadata": {
    "name": "cell38",
    "collapsed": false
   },
   "source": "### XG BOOST"
  },
  {
   "cell_type": "code",
   "id": "45a5fae4-13c0-4252-9fb2-71c3584a4e01",
   "metadata": {
    "language": "python",
    "name": "cell33",
    "codeCollapsed": false
   },
   "outputs": [],
   "source": "model = XGBClassifier(\n    input_cols=FEATURE_COLS,\n    label_cols=TARGET_COL,\n    output_cols=\"PREDICTION\",\n    n_estimators=100,\n    max_depth=3,\n    learning_rate=0.1\n)\n\nmodel.fit(train_df)\n",
   "execution_count": null
  },
  {
   "cell_type": "code",
   "id": "82ea93a6-24c2-4be2-82a3-619e37bdbdfc",
   "metadata": {
    "language": "python",
    "name": "cell34",
    "codeCollapsed": false
   },
   "outputs": [],
   "source": "predictions = model.predict(test_df)",
   "execution_count": null
  },
  {
   "cell_type": "code",
   "id": "0bfc7180-6756-405d-adc1-de7593620345",
   "metadata": {
    "language": "python",
    "name": "cell35",
    "codeCollapsed": false
   },
   "outputs": [],
   "source": "auc_score = roc_auc_score(\n    df=predictions,\n    y_true_col_names=TARGET_COL,\n    y_score_col_names=\"PREDICTION\"\n)",
   "execution_count": null
  },
  {
   "cell_type": "code",
   "id": "88732836-07bb-48a7-b18b-2d0e318c14cd",
   "metadata": {
    "language": "python",
    "name": "cell36",
    "codeCollapsed": false
   },
   "outputs": [],
   "source": "print(f\"\\nModel Evaluation:\")\nprint(f\"ROC AUC Score: {auc_score:.4f}\")",
   "execution_count": null
  },
  {
   "cell_type": "markdown",
   "id": "ab5ecd90-249d-4853-8418-df0214bbe880",
   "metadata": {
    "name": "cell39",
    "collapsed": false
   },
   "source": "### RANDOM FOREST"
  },
  {
   "cell_type": "code",
   "id": "a13ea270-c5cc-4b52-acc8-c6ef03b6279c",
   "metadata": {
    "language": "python",
    "name": "cell37",
    "codeCollapsed": false
   },
   "outputs": [],
   "source": "from sklearn.ensemble import RandomForestClassifier\nfrom sklearn.model_selection import train_test_split\n\nlocal_df = features_df.to_pandas()\nX = local_df[FEATURE_COLS]\ny = local_df[TARGET_COL]\n\nX_train, X_test, y_train, y_test = train_test_split(X, y, test_size=0.2)\nrf_model = RandomForestClassifier().fit(X_train, y_train)",
   "execution_count": null
  },
  {
   "cell_type": "code",
   "id": "d96e743b-4122-4dc3-b5d5-0e8a40579359",
   "metadata": {
    "language": "python",
    "name": "cell40",
    "codeCollapsed": false
   },
   "outputs": [],
   "source": "y_pred_rf = rf_model.predict(X_test)",
   "execution_count": null
  },
  {
   "cell_type": "code",
   "id": "10367c40-7895-4cfc-b1ea-5110797b18ee",
   "metadata": {
    "language": "python",
    "name": "cell41"
   },
   "outputs": [],
   "source": "from sklearn.metrics import classification_report\nprint(classification_report(y_test, y_pred_rf))",
   "execution_count": null
  },
  {
   "cell_type": "code",
   "id": "b3984474-578b-4af5-92c3-f58602bab46c",
   "metadata": {
    "language": "python",
    "name": "cell42"
   },
   "outputs": [],
   "source": "",
   "execution_count": null
  }
 ]
}